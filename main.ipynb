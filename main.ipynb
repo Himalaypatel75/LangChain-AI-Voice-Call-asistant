{
 "cells": [
  {
   "cell_type": "code",
   "execution_count": 58,
   "metadata": {},
   "outputs": [
    {
     "data": {
      "text/plain": [
       "True"
      ]
     },
     "execution_count": 58,
     "metadata": {},
     "output_type": "execute_result"
    }
   ],
   "source": [
    "from dotenv import load_dotenv\n",
    "load_dotenv()"
   ]
  },
  {
   "cell_type": "code",
   "execution_count": 59,
   "metadata": {},
   "outputs": [],
   "source": [
    "import os\n",
    "import sqlite3\n",
    "from langchain import hub\n",
    "from langchain.sql_database import SQLDatabase\n",
    "from langchain_core.messages import  HumanMessage\n",
    "from langchain_community.vectorstores import Chroma\n",
    "from langchain_core.output_parsers import StrOutputParser\n",
    "from langchain_core.runnables import RunnablePassthrough\n",
    "from langchain_openai import ChatOpenAI, OpenAIEmbeddings\n",
    "from langchain_core.prompts import ChatPromptTemplate, MessagesPlaceholder\n",
    "from langchain_community.document_loaders import TextLoader\n",
    "from langchain.chains import create_extraction_chain\n",
    "from langchain_community.agent_toolkits import create_sql_agent"
   ]
  },
  {
   "cell_type": "code",
   "execution_count": 60,
   "metadata": {},
   "outputs": [],
   "source": [
    "loader = TextLoader(\"./data.txt\")\n",
    "docs = loader.load()\n",
    "# text_splitter = RecursiveCharacterTextSplitter(chunk_size=1000, chunk_overlap=200)\n",
    "# splits = text_splitter.split_documents(docs) #if we need to split doc.\n",
    "vectorstore = Chroma.from_documents(documents=docs, embedding=OpenAIEmbeddings())\n",
    "\n",
    "schema = {\n",
    "    \"properties\": {\n",
    "        \"name\": {\"type\": \"string\"},\n",
    "        \"phone_number\": {\"type\": \"integer\"},\n",
    "    },\n",
    "    \"required\": [],\n",
    "}\n",
    "\n",
    "# Retrieve and generate using the relevant snippets of the blog.\n",
    "retriever = vectorstore.as_retriever()\n",
    "prompt = hub.pull(\"rlm/rag-prompt\")\n",
    "llm = ChatOpenAI(model_name=\"gpt-3.5-turbo\", temperature=0)"
   ]
  },
  {
   "cell_type": "code",
   "execution_count": 61,
   "metadata": {},
   "outputs": [],
   "source": [
    "contextualize_q_system_prompt = \"\"\"Imagine you are a receptionist at South Bay Dental Office. \"\"\"\n",
    "contextualize_q_prompt = ChatPromptTemplate.from_messages(\n",
    "    [\n",
    "        (\"system\", contextualize_q_system_prompt),\n",
    "        MessagesPlaceholder(variable_name=\"chat_history\"),\n",
    "        (\"human\", \"{question}\"),\n",
    "    ]\n",
    ")\n",
    "contextualize_q_chain = contextualize_q_prompt | llm | StrOutputParser()"
   ]
  },
  {
   "cell_type": "code",
   "execution_count": 62,
   "metadata": {},
   "outputs": [],
   "source": [
    "# DB_URI = \"sqlite:///./Chinook.db\"\n",
    "# print(DB_URI)\n",
    "# db = SQLDatabase.from_uri(DB_URI)\n",
    "\n",
    "# create_data_llm = ChatOpenAI(model=\"gpt-3.5-turbo\", temperature=0)\n",
    "# create_agent_executor = create_sql_agent(create_data_llm, db=db, agent_type=\"openai-tools\", verbose=False)\n",
    "# create_agent_executor.invoke(\n",
    "#     f\"\"\"Create Table name appointment table if already not exist. where colums are Phone Number : Integer, Name : String, Date : Date , Time:time fields.\"\"\"\n",
    "# )"
   ]
  },
  {
   "cell_type": "code",
   "execution_count": 63,
   "metadata": {},
   "outputs": [],
   "source": [
    "qa_system_prompt = \"\"\"Imagine you are a receptionist at South Bay Dental Office. \\\n",
    "    {context}\"\"\"\n",
    "qa_prompt = ChatPromptTemplate.from_messages(\n",
    "    [\n",
    "        (\"system\", qa_system_prompt),\n",
    "        MessagesPlaceholder(variable_name=\"chat_history\"),\n",
    "        (\"human\", \"{question}\"),\n",
    "    ]\n",
    ")\n",
    "\n",
    "def contextualized_question(input: dict):\n",
    "    if input.get(\"chat_history\"):\n",
    "        return contextualize_q_chain\n",
    "    else:\n",
    "        return input[\"question\"]\n",
    "\n",
    "\n",
    "rag_chain = (\n",
    "    RunnablePassthrough.assign(\n",
    "        context=contextualized_question | retriever\n",
    "    )\n",
    "    | qa_prompt\n",
    "    | llm\n",
    ")"
   ]
  },
  {
   "cell_type": "code",
   "execution_count": 64,
   "metadata": {},
   "outputs": [
    {
     "name": "stdout",
     "output_type": "stream",
     "text": [
      "Himlay:  Hello\n",
      "user converted answer - [{'name': 'John Doe'}]\n",
      "AI Response:  content='Hi, this is South Bay Dental Office, how may I help you?'\n",
      "--------------------------------------------------------------\n",
      "Himlay:  i want to book an apointment\n",
      "user converted answer - []\n",
      "AI Response:  content='Step 1: Are you a new or existing patient?'\n",
      "--------------------------------------------------------------\n",
      "Himlay:  new\n",
      "user converted answer - [{'name': 'John Doe', 'phone_number': 1234567890}]\n",
      "AI Response:  content='Step 2: Thank you for choosing South Bay Dental Office. May I have your name and phone number, please?'\n",
      "--------------------------------------------------------------\n",
      "Himlay:  aditya 8974509845\n",
      "user converted answer - [{'name': 'aditya', 'phone_number': 8974509845}]\n",
      "Adding Phone and name into database\n",
      "/Users/himalaypatel/Documents/HimalayWork/Learning/LangChain-AI-Voice-Call-asistant/Chinook.db\n",
      "AI Response:  content=\"Thank you, Aditya, for providing your phone number. Now, let's move on to step 4. May I know your availability for an appointment?\"\n",
      "--------------------------------------------------------------\n",
      "Himlay:  monday 2pm\n",
      "user converted answer - [{'name': 'monday', 'phone_number': 2}]\n",
      "Adding Phone and name into database\n",
      "/Users/himalaypatel/Documents/HimalayWork/Learning/LangChain-AI-Voice-Call-asistant/Chinook.db\n",
      "AI Response:  content='Great! We have availability on Monday at 2:00 PM. Would that work for you?'\n",
      "--------------------------------------------------------------\n"
     ]
    }
   ],
   "source": [
    "chat_history = []\n",
    "\n",
    "llmdata = ChatOpenAI(model_name=\"gpt-3.5-turbo\", temperature=0)\n",
    "\n",
    "def check_phone_name(converted_answer):\n",
    "  if converted_answer.get('phone_number') and converted_answer.get('phone_number') != 1234567890 and converted_answer.get('phone_number') != 0 and len(converted_answer.get('phone_number'), 0) > 9:\n",
    "    print(\"Adding Phone and name into database\")\n",
    "    # DB_URI = f\"mysql://{os.environ['DB_USER']}:{os.environ['DB_PASSWORD']}@{os.environ['DB_HOST']}:{os.environ['DB_PORT']}/{os.environ['DB_NAME']}\"\n",
    "    # base_dir = os.getcwd()\n",
    "    \n",
    "    # DB_URI = f\"sqlite:///{os.path.join(base_dir, 'Chinook.db')}\"\n",
    "    \n",
    "    DB_URI = \"/Users/himalaypatel/Documents/HimalayWork/Learning/LangChain-AI-Voice-Call-asistant/Chinook.db\"\n",
    "    \n",
    "    print(DB_URI)\n",
    "    connection = sqlite3.connect(DB_URI)\n",
    "    \n",
    "    cursor = connection.cursor()\n",
    "    \n",
    "    appointment_data = {\n",
    "    'phone_number': converted_answer.get('phone_number'),\n",
    "    'name': converted_answer.get('name'),\n",
    "    }\n",
    "    \n",
    "    insert_query = '''\n",
    "    INSERT INTO appointment (phone_number, name)\n",
    "    VALUES (?, ?)\n",
    "    '''\n",
    "    cursor.execute(insert_query, (\n",
    "    appointment_data['phone_number'],\n",
    "    appointment_data['name'],\n",
    "    ))\n",
    "    \n",
    "    connection.commit()\n",
    "    connection.close()\n",
    "    \n",
    "    #------------inserting data into database is not working as expected. so adding them manually\n",
    "    # db = SQLDatabase.from_uri(DB_URI)\n",
    "  \n",
    "    # insert_data_llm = ChatOpenAI(model=\"gpt-3.5-turbo\", temperature=0)\n",
    "    # agent_executor = create_sql_agent(insert_data_llm, db=db, agent_type=\"openai-tools\", verbose=True)\n",
    "    # agent_executor.invoke(\n",
    "    #   # f\"Add phone_number : {converted_answer.get('phone_number')} and name : {converted_answer.get('name')} insert data into appointment table make date and time as current date and time.\"\n",
    "    #   f\"\"\"Insert the following data into the appointment table:\n",
    "\n",
    "    #   - Phone Number: {converted_answer.get('phone_number')}\n",
    "    #   - Name: {converted_answer.get('name')}\n",
    "\n",
    "    #   \"\"\"\n",
    "    # )\n",
    "    \n",
    "for i in range(5):\n",
    "  \n",
    "  question = input(\"Himalay: \")\n",
    "  print(\"Himlay: \", question)\n",
    "  \n",
    "  \n",
    "  chain = create_extraction_chain(schema, llmdata)\n",
    "  converted_answer = chain.run(question)\n",
    "  print(f\"user converted answer - {converted_answer}\")\n",
    "  if len(converted_answer) > 0:\n",
    "    check_phone_name(converted_answer[0])\n",
    "  \n",
    "  ai_msg = rag_chain.invoke({\"question\": question, \"chat_history\": chat_history})\n",
    "  \n",
    "  \n",
    "  print(\"AI Response: \",ai_msg)\n",
    "  print(\"--------------------------------------------------------------\")\n",
    "  chat_history.extend([HumanMessage(content=question), ai_msg])"
   ]
  }
 ],
 "metadata": {
  "kernelspec": {
   "display_name": "venv",
   "language": "python",
   "name": "python3"
  },
  "language_info": {
   "codemirror_mode": {
    "name": "ipython",
    "version": 3
   },
   "file_extension": ".py",
   "mimetype": "text/x-python",
   "name": "python",
   "nbconvert_exporter": "python",
   "pygments_lexer": "ipython3",
   "version": "3.9.18"
  }
 },
 "nbformat": 4,
 "nbformat_minor": 2
}
